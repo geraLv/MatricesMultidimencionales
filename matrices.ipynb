{
 "cells": [
  {
   "cell_type": "markdown",
   "metadata": {},
   "source": [
    "#Manejo De arrays o matrices"
   ]
  },
  {
   "cell_type": "code",
   "execution_count": null,
   "metadata": {},
   "outputs": [
    {
     "name": "stdout",
     "output_type": "stream",
     "text": [
      "Nombre Edad Nota\n",
      "ger 34 43\n",
      "Nombre Edad Nota\n",
      "fer 23 34\n"
     ]
    }
   ],
   "source": [
    "listaAlumnos = []\n",
    "numAlumnos = int(input(\"Ingrese la cantidad de alumnos\"))\n",
    "def registrar(numAlumnos):\n",
    "\n",
    "  for i in range(numAlumnos):\n",
    "    nombre = input(\"Ingrese el nombre del alumno\")\n",
    "    edad = int(input(\"Ingrese la edad del alumno\"))\n",
    "    nota = int(input(\"Ingrese la nota del alumno\"))\n",
    "\n",
    "    ALUMNOS = {\n",
    "      \"Nombre\" : nombre,\n",
    "      \"Edad\" : edad,\n",
    "      \"Nota\" : nota,\n",
    "    }\n",
    "    listaAlumnos.append(ALUMNOS)\n",
    "  for alumno in listaAlumnos:\n",
    "    print(alumno['Nombre'],alumno['Edad'],alumno['Nota'])\n",
    "registrar(numAlumnos)"
   ]
  },
  {
   "cell_type": "code",
   "execution_count": null,
   "metadata": {},
   "outputs": [],
   "source": []
  }
 ],
 "metadata": {
  "kernelspec": {
   "display_name": "Python 3",
   "language": "python",
   "name": "python3"
  },
  "language_info": {
   "codemirror_mode": {
    "name": "ipython",
    "version": 3
   },
   "file_extension": ".py",
   "mimetype": "text/x-python",
   "name": "python",
   "nbconvert_exporter": "python",
   "pygments_lexer": "ipython3",
   "version": "3.12.9"
  }
 },
 "nbformat": 4,
 "nbformat_minor": 2
}
