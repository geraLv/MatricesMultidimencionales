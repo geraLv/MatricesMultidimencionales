{
 "cells": [
  {
   "cell_type": "markdown",
   "metadata": {},
   "source": [
    "#Matrices multidimencionales"
   ]
  },
  {
   "cell_type": "code",
   "execution_count": null,
   "metadata": {},
   "outputs": [
    {
     "name": "stdout",
     "output_type": "stream",
     "text": [
      "Nombre Apellido DNI telefono/s\n",
      "gera vega 45 ['32']\n",
      "Nombre Apellido DNI telefono/s\n",
      "rer cec 12 ['56', '45']\n"
     ]
    }
   ],
   "source": [
    "numUsuarios = int(input(\"Ingrese la cantidad de usuarios\"))\n",
    "def registrar(numAlumnos):\n",
    "  for i in range(numUsuarios):\n",
    "    nombre = input(\"Ingrese el nombre del usuario\")\n",
    "    apellido = input(\"Ingrese el apellido del usuario\")\n",
    "    dni = input(\"Ingrese el dni del usuario\")\n",
    "    cNumeros = int(input(\"Ingrese la cantidad de numeros asocioados que tiene el usuario\"))\n",
    "    numsAsociados = []\n",
    "    for i in range(cNumeros):\n",
    "      telefono = input(\"ingrese el/los numeros de telefono(uno a la vez)\")\n",
    "      numsAsociados.append(telefono)\n",
    "    print(nombre,apellido,dni,numsAsociados)\n",
    "registrar(numUsuarios)"
   ]
  }
 ],
 "metadata": {
  "kernelspec": {
   "display_name": "Python 3",
   "language": "python",
   "name": "python3"
  },
  "language_info": {
   "codemirror_mode": {
    "name": "ipython",
    "version": 3
   },
   "file_extension": ".py",
   "mimetype": "text/x-python",
   "name": "python",
   "nbconvert_exporter": "python",
   "pygments_lexer": "ipython3",
   "version": "3.12.9"
  }
 },
 "nbformat": 4,
 "nbformat_minor": 2
}
